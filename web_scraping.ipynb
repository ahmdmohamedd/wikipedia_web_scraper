{
 "cells": [
  {
   "cell_type": "code",
   "execution_count": 28,
   "id": "5971d25c-cf2b-4e7f-9ca8-bca3cd36db1c",
   "metadata": {},
   "outputs": [],
   "source": [
    "import requests\n",
    "from bs4 import BeautifulSoup\n",
    "import pandas as pd"
   ]
  },
  {
   "cell_type": "code",
   "execution_count": 29,
   "id": "d5111dab-008c-4f87-893e-b49c43748412",
   "metadata": {},
   "outputs": [],
   "source": [
    "# Define the URL to scrape\n",
    "url = \"https://en.wikipedia.org/wiki/Python_(programming_language)\"\n",
    "\n",
    "# Set up the request headers\n",
    "headers = {\n",
    "    \"User-Agent\": \"Mozilla/5.0 (Windows NT 10.0; Win64; x64) AppleWebKit/537.36 (KHTML, like Gecko) Chrome/91.0.4472.124 Safari/537.36\"\n",
    "}"
   ]
  },
  {
   "cell_type": "code",
   "execution_count": 30,
   "id": "136faa6f-01e1-499c-bbca-485120634b0c",
   "metadata": {},
   "outputs": [
    {
     "name": "stdout",
     "output_type": "stream",
     "text": [
      "Successfully connected to the Wikipedia page\n"
     ]
    }
   ],
   "source": [
    "# Send a GET request to the URL\n",
    "response = requests.get(url, headers=headers)\n",
    "\n",
    "# Check if the request was successful\n",
    "if response.status_code == 200:\n",
    "    print(\"Successfully connected to the Wikipedia page\")\n",
    "    # Parse the HTML content using BeautifulSoup\n",
    "    soup = BeautifulSoup(response.content, \"html.parser\")\n",
    "else:\n",
    "    print(\"Failed to connect to the Wikipedia page\")"
   ]
  },
  {
   "cell_type": "code",
   "execution_count": 31,
   "id": "1bf91538-6131-45ea-a67e-51fffcf627ac",
   "metadata": {},
   "outputs": [
    {
     "name": "stdout",
     "output_type": "stream",
     "text": [
      "                         Headings  \\\n",
      "0                         History   \n",
      "1  Design philosophy and features   \n",
      "2            Syntax and semantics   \n",
      "3                     Indentation   \n",
      "4     Statements and control flow   \n",
      "\n",
      "                                          Paragraphs  \\\n",
      "0                                                      \n",
      "1  Python is a high-level, general-purpose progra...   \n",
      "2  Python is dynamically type-checked and garbage...   \n",
      "3  Guido van Rossum began working on Python in th...   \n",
      "4  Python consistently ranks as one of the most p...   \n",
      "\n",
      "                                       Bullet Points  \n",
      "0  Tier 1: 64-bit Linux, macOS; 64- and 32-bit Wi...  \n",
      "1             Tier 2: E.g. 32-bit WebAssembly (WASI)  \n",
      "2  Tier 3: 64-bit Android,[6] iOS, FreeBSD, and (...  \n",
      "3                    Python Programming at Wikibooks  \n",
      "4                     Beautiful is better than ugly.  \n"
     ]
    }
   ],
   "source": [
    "import pandas as pd\n",
    "\n",
    "# Determine the shortest list length\n",
    "min_length = min(len(headings), len(paragraphs), len(bullet_points))\n",
    "\n",
    "# Trim all lists to the shortest length to avoid misalignment\n",
    "headings = headings[:min_length]\n",
    "paragraphs = paragraphs[:min_length]\n",
    "bullet_points = bullet_points[:min_length]\n",
    "\n",
    "# Now create a structured DataFrame\n",
    "df_data = pd.DataFrame({\n",
    "    'Headings': [heading.get_text().strip() for heading in headings],\n",
    "    'Paragraphs': [paragraph.get_text().strip() for paragraph in paragraphs],\n",
    "    'Bullet Points': [bullet.get_text().strip() for bullet in bullet_points]\n",
    "})\n",
    "\n",
    "# Display the DataFrame to verify\n",
    "print(df_data.head())\n"
   ]
  },
  {
   "cell_type": "code",
   "execution_count": 32,
   "id": "ef7f3eb8-ed4f-4bc0-8f9b-cc3b83f8f33f",
   "metadata": {},
   "outputs": [
    {
     "name": "stdout",
     "output_type": "stream",
     "text": [
      "Data successfully saved to wikipedia_scraped_data.csv\n"
     ]
    }
   ],
   "source": [
    "# Save the data to a CSV file\n",
    "output_file = \"wikipedia_scraped_data.csv\"\n",
    "df_data.to_csv(output_file, index=False)\n",
    "\n",
    "print(f\"Data successfully saved to {output_file}\")"
   ]
  },
  {
   "cell_type": "code",
   "execution_count": 33,
   "id": "02113cb2-0dc7-4371-9da0-d9ea5ca40e1a",
   "metadata": {},
   "outputs": [
    {
     "name": "stdout",
     "output_type": "stream",
     "text": [
      "                         Headings  \\\n",
      "0                         History   \n",
      "1  Design philosophy and features   \n",
      "2            Syntax and semantics   \n",
      "3                     Indentation   \n",
      "4     Statements and control flow   \n",
      "5                     Expressions   \n",
      "6                         Methods   \n",
      "7                          Typing   \n",
      "8           Arithmetic operations   \n",
      "9            Programming examples   \n",
      "\n",
      "                                          Paragraphs  \\\n",
      "0                                                NaN   \n",
      "1  Python is a high-level, general-purpose progra...   \n",
      "2  Python is dynamically type-checked and garbage...   \n",
      "3  Guido van Rossum began working on Python in th...   \n",
      "4  Python consistently ranks as one of the most p...   \n",
      "5  Python was conceived in the late 1980s[41] by ...   \n",
      "6  Python 2.0 was released on 16 October 2000, wi...   \n",
      "7  Python 3.0 was released on 3 December 2008, wi...   \n",
      "8  Since 7 October 2024[update], Python 3.13 is t...   \n",
      "9  Security updates were expedited in 2021 (and a...   \n",
      "\n",
      "                                       Bullet Points  \n",
      "0  Tier 1: 64-bit Linux, macOS; 64- and 32-bit Wi...  \n",
      "1             Tier 2: E.g. 32-bit WebAssembly (WASI)  \n",
      "2  Tier 3: 64-bit Android,[6] iOS, FreeBSD, and (...  \n",
      "3                    Python Programming at Wikibooks  \n",
      "4                     Beautiful is better than ugly.  \n",
      "5                  Explicit is better than implicit.  \n",
      "6                     Simple is better than complex.  \n",
      "7                Complex is better than complicated.  \n",
      "8                                Readability counts.  \n",
      "9  The assignment statement, using a single equal...  \n"
     ]
    }
   ],
   "source": [
    "# Load the CSV to verify its content\n",
    "df_check = pd.read_csv(\"wikipedia_scraped_data.csv\")\n",
    "\n",
    "print(df_check.head(10))  # Display the first few rows to confirm"
   ]
  }
 ],
 "metadata": {
  "kernelspec": {
   "display_name": "Python 3 (ipykernel)",
   "language": "python",
   "name": "python3"
  },
  "language_info": {
   "codemirror_mode": {
    "name": "ipython",
    "version": 3
   },
   "file_extension": ".py",
   "mimetype": "text/x-python",
   "name": "python",
   "nbconvert_exporter": "python",
   "pygments_lexer": "ipython3",
   "version": "3.9.18"
  }
 },
 "nbformat": 4,
 "nbformat_minor": 5
}
